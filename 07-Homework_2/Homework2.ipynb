{
 "cells": [
  {
   "cell_type": "markdown",
   "metadata": {},
   "source": [
    "# Hacking Incident\n",
    "\n",
    "We're being hacked! We need your help to get a message to the main server.\n",
    "\n",
    "We need you to accomplish 3 tasks:\n",
    "\n",
    "1. Create a Caeser cipher encryption function.\n",
    "2. Create another function that decrypts a Caeser cipher message.\n",
    "\n",
    "We've set up a framework for you to follow here in this notebook. Feel free to use it, or create your own base functions."
   ]
  },
  {
   "cell_type": "code",
   "execution_count": 6,
   "metadata": {},
   "outputs": [
    {
     "name": "stdout",
     "output_type": "stream",
     "text": [
      "26\n"
     ]
    }
   ],
   "source": [
    "import string\n",
    "\n",
    "\n",
    "\n"
   ]
  },
  {
   "cell_type": "markdown",
   "metadata": {},
   "source": [
    "## Encryption Function\n",
    "\n",
    "This function should take in two parameters, the plain text message and the shift number for the Caeser cipher.\n",
    "\n",
    "To create the cipher you will need to create a list of the alphabet. You can either write out the alphabet manually, or use the [string library](https://docs.python.org/3/library/string.html?highlight=string#module-string) to get all the lowercase alphabet. You will first need to run *import string* , and then call the attribute. For example:\n",
    "\n",
    "    import string\n",
    "    alphabet = string.ascii_lowercase\n",
    "    print(alphabet)\n",
    "    print(list(alphabet))\n",
    "    \n",
    "An empty function with some comments is here below for you to fill out:"
   ]
  },
  {
   "cell_type": "code",
   "execution_count": 53,
   "metadata": {
    "collapsed": true
   },
   "outputs": [],
   "source": [
    "def encrypt(text,shift):\n",
    "    '''\n",
    "    INPUT: text as a string and an integer for the shift value.\n",
    "    OUTPUT: The shifted text after being run through the Caeser cipher.\n",
    "    '''\n",
    "    \n",
    "    # Tworzę alfabet w postaci listy oraz przypisuję długość alfabetu na zmienną alph_len\n",
    "    alphabet = list(string.ascii_lowercase)\n",
    "    alph_len = len(alphabet)\n",
    "\n",
    "    # Tworzę nową listę na \"przesunięty\" alfabet. Następnie przechodzę po kolei po kadej literze.\n",
    "    # Jeśli wykracza poza zakres, koryguję, w p. p. po prostu podstawiam przesuniętą odpowiednio literę.\n",
    "\n",
    "    crypted_alph = []\n",
    "\n",
    "    for i in range(0, alph_len):\n",
    "        if i + shift >= alph_len:\n",
    "            crypted_alph.append(alphabet[i + shift - alph_len])\n",
    "        \n",
    "        else:\n",
    "            crypted_alph.append(alphabet[i + shift])\n",
    "\n",
    "    # Tworzę zmienną wynikową. Następnie przechodzę przez dany wyraz. Jeśli natrafiam na znak interpunkcyjny lub spację,\n",
    "    # przepisuję. W przeciwnym przypadku, sprawdzam czy litera jest duza czy mała. Jeśli mała, przypisuję odpowiednio \n",
    "    # zaszyfrowaną literę. W p. p. wstawiam duzą.\n",
    "\n",
    "    output = ''\n",
    "\n",
    "    for i in text:\n",
    "        if i not in string.punctuation and i != ' ':\n",
    "            if i.islower():\n",
    "                output += crypted_alph[alphabet.index(i)]\n",
    "            \n",
    "            else:\n",
    "                output += crypted_alph[alphabet.index(i.lower())].upper()\n",
    "        \n",
    "        else:\n",
    "            output += i\n",
    "    \n",
    "    # Wypisuję zaszyfrowany tekst\n",
    "\n",
    "    print(output)"
   ]
  },
  {
   "cell_type": "markdown",
   "metadata": {},
   "source": [
    "** An example input and output: **"
   ]
  },
  {
   "cell_type": "code",
   "execution_count": 54,
   "metadata": {},
   "outputs": [
    {
     "name": "stdout",
     "output_type": "stream",
     "text": [
      "Trg !guvf zrffntr gb gur znva freire.!\n"
     ]
    }
   ],
   "source": [
    "encrypt('Get !this message to the main server.!',13)"
   ]
  },
  {
   "cell_type": "markdown",
   "metadata": {},
   "source": [
    "## Decryption\n",
    "\n",
    "Now create a new function that will \"decrypt\" a shifted message. It should basically do the reverse of the encryption function. The process will be very similar as your previous function, but the alphabets will be switched."
   ]
  },
  {
   "cell_type": "code",
   "execution_count": 55,
   "metadata": {
    "collapsed": true
   },
   "outputs": [],
   "source": [
    "def decrypt(text,shift):\n",
    "    '''\n",
    "    INPUT: text as a string and an integer for the shift value.\n",
    "    OUTPUT: The shifted text after being run through the Caeser cipher.\n",
    "    '''\n",
    "    \n",
    "    # Tworzę alfabet w postaci listy oraz przypisuję długość alfabetu na zmienną alph_len\n",
    "    alphabet = list(string.ascii_lowercase)\n",
    "    alph_len = len(alphabet)\n",
    "\n",
    "    # Tworzę nową listę na \"przesunięty\" alfabet. Następnie przechodzę po kolei po kadej literze.\n",
    "    # Jeśli wykracza poza zakres, koryguję, w p. p. po prostu podstawiam przesuniętą odpowiednio literę.\n",
    "\n",
    "    crypted_alph = []\n",
    "\n",
    "    for i in range(0, alph_len):\n",
    "        if i + shift >= alph_len:\n",
    "            crypted_alph.append(alphabet[i + shift - alph_len])\n",
    "        \n",
    "        else:\n",
    "            crypted_alph.append(alphabet[i + shift])\n",
    "\n",
    "    # Tworzę zmienną wynikową. Następnie przechodzę przez dany wyraz. Jeśli natrafiam na znak interpunkcyjny lub spację,\n",
    "    # przepisuję. W przeciwnym przypadku, sprawdzam czy litera jest duza czy mała. Jeśli mała, przypisuję odpowiednio \n",
    "    # zaszyfrowaną literę. W p. p. wstawiam duzą.\n",
    "\n",
    "    output = ''\n",
    "\n",
    "    for i in text:\n",
    "        if i not in string.punctuation and i != ' ':\n",
    "            if i.islower():\n",
    "                output += alphabet[crypted_alph.index(i)]\n",
    "            \n",
    "            else:\n",
    "                output += alphabet[crypted_alph.index(i.lower())].upper()\n",
    "        \n",
    "        else:\n",
    "            output += i\n",
    "    \n",
    "    # Wypisuję zaszyfrowany tekst\n",
    "\n",
    "    print(output)"
   ]
  },
  {
   "cell_type": "markdown",
   "metadata": {},
   "source": [
    "** Here is an example output: **"
   ]
  },
  {
   "cell_type": "code",
   "execution_count": 57,
   "metadata": {},
   "outputs": [
    {
     "name": "stdout",
     "output_type": "stream",
     "text": [
      "get this message to the main serveR!@#\n"
     ]
    }
   ],
   "source": [
    "decrypt('trg guvf zrffntr gb gur znva freirE!@#',13)"
   ]
  },
  {
   "cell_type": "code",
   "execution_count": null,
   "metadata": {},
   "outputs": [],
   "source": []
  }
 ],
 "metadata": {
  "kernelspec": {
   "display_name": "Python 3",
   "language": "python",
   "name": "python3"
  },
  "language_info": {
   "codemirror_mode": {
    "name": "ipython",
    "version": 3
   },
   "file_extension": ".py",
   "mimetype": "text/x-python",
   "name": "python",
   "nbconvert_exporter": "python",
   "pygments_lexer": "ipython3",
   "version": "3.11.5"
  }
 },
 "nbformat": 4,
 "nbformat_minor": 2
}
