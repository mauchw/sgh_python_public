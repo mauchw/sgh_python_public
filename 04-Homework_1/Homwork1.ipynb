{
 "cells": [
  {
   "cell_type": "markdown",
   "metadata": {},
   "source": [
    "# Homework 1\n",
    "\n",
    "**Let's quickly check your understanding on loops, python operators, functions like range and input, and list comprehensions.**\n",
    "\n",
    "**Complete the tasks below:**"
   ]
  },
  {
   "cell_type": "markdown",
   "metadata": {
    "collapsed": true
   },
   "source": [
    "### Task 1\n",
    "** Use a for loop and indexing to print out only the words that start with an s in this sentence: ** \n",
    "\n",
    "    \"Secret agents are super good at staying hidden.\"\n",
    "\n",
    "**Hint: the .split() method may be useful here! **"
   ]
  },
  {
   "cell_type": "code",
   "execution_count": 19,
   "metadata": {
    "collapsed": true
   },
   "outputs": [],
   "source": [
    "mystring = \"Secret agents are super good at staying hidden.\""
   ]
  },
  {
   "cell_type": "code",
   "execution_count": 20,
   "metadata": {},
   "outputs": [
    {
     "name": "stdout",
     "output_type": "stream",
     "text": [
      "Secret\n",
      "super\n",
      "staying\n"
     ]
    }
   ],
   "source": [
    "# Code Here\n",
    "\n",
    "def string_start_s(sentence):\n",
    "\n",
    "    for i in sentence.split():       # iteruję przez wszystkie słowa w zdaniu\n",
    "        if i[0].lower() == 's':      # uzyłem metody lower(), zeby nie stosować alternatywy i[0] == 's' or i[0] == 'S'\n",
    "            print(i)                 # jeśli słowo zaczyna się od 's' lub 'S', wypisuję to słowo\n",
    "\n",
    "string_start_s(mystring)"
   ]
  },
  {
   "cell_type": "markdown",
   "metadata": {},
   "source": [
    "### Task 2"
   ]
  },
  {
   "cell_type": "markdown",
   "metadata": {},
   "source": [
    "** Using the same string as previously used:**\n",
    "\n",
    "    \"Secret agents are super good at staying hidden.\"\n",
    "\n",
    "** Use a for loop to only print out the words with an even number of characters/letters. **"
   ]
  },
  {
   "cell_type": "code",
   "execution_count": 21,
   "metadata": {},
   "outputs": [],
   "source": [
    "# Na początku zdefiniuję funkcję sprawdzającą, czy liczba jest parzysta\n",
    "\n",
    "def is_even(num):\n",
    "    \n",
    "    if num % 2 == 0:\n",
    "        return True\n",
    "    else:\n",
    "        return False"
   ]
  },
  {
   "cell_type": "code",
   "execution_count": 22,
   "metadata": {
    "collapsed": true
   },
   "outputs": [],
   "source": [
    "mystring = \"Secret agents are super good at staying hidden.\""
   ]
  },
  {
   "cell_type": "code",
   "execution_count": 23,
   "metadata": {},
   "outputs": [
    {
     "name": "stdout",
     "output_type": "stream",
     "text": [
      "Secret - 6\n",
      "agents - 6\n",
      "good - 4\n",
      "at - 2\n",
      "hidden - 6\n"
     ]
    }
   ],
   "source": [
    "def string_even_num(sentence):\n",
    "\n",
    "    for i in sentence.rstrip(\".\").split():     # Dla kazdego słowa w zdaniu (dodatkowo usuwam kropkę z ostatniego słowa)\n",
    "        if is_even(len(i)) == True:            # Jeśli długość słowa jest parzysta\n",
    "            print(i + ' - ' + str(len(i)))     # To wypisuję to słowo wraz z jego długością\n",
    "\n",
    "string_even_num(mystring)"
   ]
  },
  {
   "cell_type": "markdown",
   "metadata": {},
   "source": [
    "### Task 3\n",
    "\n",
    "**Use the range function to create a list of all the even numbers from 0 to 10.**"
   ]
  },
  {
   "cell_type": "code",
   "execution_count": 24,
   "metadata": {},
   "outputs": [
    {
     "data": {
      "text/plain": [
       "[0, 2, 4, 6, 8, 10]"
      ]
     },
     "execution_count": 24,
     "metadata": {},
     "output_type": "execute_result"
    }
   ],
   "source": [
    "list(range(0, 11, 2))"
   ]
  },
  {
   "cell_type": "markdown",
   "metadata": {},
   "source": [
    "### Task 4\n",
    "\n",
    "** Create a for loop that uses the random library to create a list of 10 random numbers.**"
   ]
  },
  {
   "cell_type": "code",
   "execution_count": 25,
   "metadata": {
    "collapsed": true
   },
   "outputs": [],
   "source": [
    "import random"
   ]
  },
  {
   "cell_type": "code",
   "execution_count": 27,
   "metadata": {},
   "outputs": [],
   "source": [
    "# Stworzę dwie listy: 'rand' - dowolne liczby rzeczywiste większe od 0 i mniejsze od 1 \n",
    "# oraz 'rand_int' - liczby naturalne z podanego przedziału (tutaj między 0 a 200)\n",
    "# Przedstawiam dwie alternatywne metody (pętla for z polecenia oraz jedno inne)\n",
    "\n",
    "rand = [random.random() for i in range(0, 10)]\n",
    "rand_int = [random.randint(0, 200) for i in range(0, 10)]\n",
    "\n",
    "rand_2 = []\n",
    "rand_int_2 = []\n",
    "\n",
    "for i in range(0, 10):\n",
    "    rand_2.append(random.random())\n",
    "    rand_int_2.append(random.randint(0, 200))"
   ]
  },
  {
   "cell_type": "code",
   "execution_count": 28,
   "metadata": {},
   "outputs": [
    {
     "data": {
      "text/plain": [
       "[0.21167396166643337,\n",
       " 0.11710616483905523,\n",
       " 0.1551115063523103,\n",
       " 0.34406468254670985,\n",
       " 0.5412927190676623,\n",
       " 0.660644338134023,\n",
       " 0.04895910897683908,\n",
       " 0.8182148492278956,\n",
       " 0.8940347186248823,\n",
       " 0.1262438333528596]"
      ]
     },
     "execution_count": 28,
     "metadata": {},
     "output_type": "execute_result"
    }
   ],
   "source": [
    "rand"
   ]
  },
  {
   "cell_type": "code",
   "execution_count": 29,
   "metadata": {},
   "outputs": [
    {
     "data": {
      "text/plain": [
       "[103, 119, 12, 31, 167, 145, 109, 173, 74, 3]"
      ]
     },
     "execution_count": 29,
     "metadata": {},
     "output_type": "execute_result"
    }
   ],
   "source": [
    "rand_int"
   ]
  },
  {
   "cell_type": "code",
   "execution_count": 30,
   "metadata": {},
   "outputs": [
    {
     "data": {
      "text/plain": [
       "[0.21868377001622852,\n",
       " 0.6855817073183795,\n",
       " 0.8760611716499906,\n",
       " 0.9505281048846634,\n",
       " 0.1506850479544748,\n",
       " 0.5894189607478895,\n",
       " 0.3774715580770037,\n",
       " 0.31696807782506964,\n",
       " 0.8203648233032338,\n",
       " 0.2582920592402155]"
      ]
     },
     "execution_count": 30,
     "metadata": {},
     "output_type": "execute_result"
    }
   ],
   "source": [
    "rand_2"
   ]
  },
  {
   "cell_type": "code",
   "execution_count": 31,
   "metadata": {},
   "outputs": [
    {
     "data": {
      "text/plain": [
       "[121, 45, 50, 178, 34, 163, 113, 77, 199, 54]"
      ]
     },
     "execution_count": 31,
     "metadata": {},
     "output_type": "execute_result"
    }
   ],
   "source": [
    "rand_int_2"
   ]
  },
  {
   "cell_type": "markdown",
   "metadata": {},
   "source": [
    "### Task 5\n",
    "\n",
    "** Create a while loop that will ask the user to input an even number. It should keep repeating the request until an even integer is provided. You should only need to expect integers to be passed in, if the user provides a string or something else that can't be transformed to an integer with int(), then the loop should break with an error. **\n",
    "\n",
    "** Important things to keep in mind when working with while loops with the input() function:**\n",
    "* It's very easy to get stuck in an infinite loop, click on Kernel in the top toolbar and select Restart Kernel to fix this.\n",
    "* If you re-run a cell still waiting for an input() it will get stuck with In [*\\] , again select Restart Kernel to fix this."
   ]
  },
  {
   "cell_type": "code",
   "execution_count": 34,
   "metadata": {},
   "outputs": [
    {
     "name": "stdout",
     "output_type": "stream",
     "text": [
      "Proszę podać dodatnią liczbę typu integer.\n",
      "Gratulacje!\n"
     ]
    }
   ],
   "source": [
    "print(\"Proszę podać dodatnią liczbę typu integer.\")\n",
    "x = input(\"Proszę podać dodatnią liczbę typu integer: \")\n",
    "\n",
    "while is_even(int(x)) == False:\n",
    "    print(\"Proszę podać dodatnią liczbę typu integer.\")\n",
    "    x = input(\"Proszę podać dodatnią liczbę typu integer: \")\n",
    "\n",
    "print(\"Gratulacje!\")"
   ]
  },
  {
   "cell_type": "markdown",
   "metadata": {
    "collapsed": true
   },
   "source": [
    "Best of luck!"
   ]
  }
 ],
 "metadata": {
  "kernelspec": {
   "display_name": "Python 3",
   "language": "python",
   "name": "python3"
  },
  "language_info": {
   "codemirror_mode": {
    "name": "ipython",
    "version": 3
   },
   "file_extension": ".py",
   "mimetype": "text/x-python",
   "name": "python",
   "nbconvert_exporter": "python",
   "pygments_lexer": "ipython3",
   "version": "3.11.5"
  }
 },
 "nbformat": 4,
 "nbformat_minor": 2
}
